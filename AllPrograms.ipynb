{
  "nbformat": 4,
  "nbformat_minor": 0,
  "metadata": {
    "colab": {
      "name": "AllPrograms.ipynb",
      "provenance": [],
      "authorship_tag": "ABX9TyNKS5QbmXkuDNxuxgorUL3A",
      "include_colab_link": true
    },
    "kernelspec": {
      "name": "python3",
      "display_name": "Python 3"
    },
    "language_info": {
      "name": "python"
    }
  },
  "cells": [
    {
      "cell_type": "markdown",
      "metadata": {
        "id": "view-in-github",
        "colab_type": "text"
      },
      "source": [
        "<a href=\"https://colab.research.google.com/github/Kadaroli17/PythonCode/blob/main/AllPrograms.ipynb\" target=\"_parent\"><img src=\"https://colab.research.google.com/assets/colab-badge.svg\" alt=\"Open In Colab\"/></a>"
      ]
    },
    {
      "cell_type": "code",
      "source": [
        "num1=int(input(\"Enter the value of num1:\"));\n",
        "num2=int(input(\"Enter the value of num2:\"));\n",
        "sum = num1 + num2;\n",
        "print('The sum of {0} and {1} is {2}'.format(num1,num2,sum,));"
      ],
      "metadata": {
        "colab": {
          "base_uri": "https://localhost:8080/"
        },
        "id": "Wy7Ca6Loq9HO",
        "outputId": "e99583e4-3eaf-40eb-9017-da71a4832047"
      },
      "execution_count": null,
      "outputs": [
        {
          "output_type": "stream",
          "name": "stdout",
          "text": [
            "Enter the value of num1:20\n",
            "Enter the value of num2:30\n",
            "The sum of 20 and 30 is 50\n"
          ]
        }
      ]
    },
    {
      "cell_type": "code",
      "source": [
        "num = float(input(\"Enter the value:\"));\n",
        "sqrt = num ** 0.5;\n",
        "print('The square root of the giver number is', sqrt);"
      ],
      "metadata": {
        "colab": {
          "base_uri": "https://localhost:8080/"
        },
        "id": "_eyzkxnkrPWs",
        "outputId": "785a4b17-c247-4eac-e3a1-3b9739fff36b"
      },
      "execution_count": null,
      "outputs": [
        {
          "output_type": "stream",
          "name": "stdout",
          "text": [
            "Enter the value:20.9\n",
            "The square root of the giver number is 4.571651780264984\n"
          ]
        }
      ]
    },
    {
      "cell_type": "code",
      "source": [
        "x= 5;\n",
        "y = 10;\n",
        "temp= x;\n",
        "x = y;\n",
        "y = temp;\n",
        "print('The value of x after swapping',x);\n",
        "print('The value of y after swapping',y);"
      ],
      "metadata": {
        "colab": {
          "base_uri": "https://localhost:8080/"
        },
        "id": "t58Rlzw2rPeg",
        "outputId": "f3f81a73-e1dc-4530-c865-6ca44adc9480"
      },
      "execution_count": null,
      "outputs": [
        {
          "output_type": "stream",
          "name": "stdout",
          "text": [
            "The value of x after swapping 10\n",
            "The value of y after swapping 5\n"
          ]
        }
      ]
    },
    {
      "cell_type": "code",
      "source": [
        "import cmath\n",
        "num = 1+2j\n",
        "num_sqrt = cmath.sqrt(num)\n",
        "print('The square root of {0} is {1:0.3f}+{2:0.3f}j'.format(num,num_sqrt.real,num_sqrt.imag))"
      ],
      "metadata": {
        "colab": {
          "base_uri": "https://localhost:8080/"
        },
        "id": "GI4Q_lt2rPiV",
        "outputId": "14b00eb1-8b61-40dc-a898-2ddec7616996"
      },
      "execution_count": null,
      "outputs": [
        {
          "output_type": "stream",
          "name": "stdout",
          "text": [
            "The square root of (1+2j) is 1.272+0.786j\n"
          ]
        }
      ]
    },
    {
      "cell_type": "code",
      "source": [
        "a,b,c = 11,12,13\n",
        "s= (a+b+c)/2\n",
        "area= (s*(s-a)*(s-b)*(s-c)) ** 0.5\n",
        "print('The area of the triangle is %0.2f' %area)"
      ],
      "metadata": {
        "colab": {
          "base_uri": "https://localhost:8080/"
        },
        "id": "ewQaODBirPmH",
        "outputId": "34419060-98d0-4f9e-a8c2-509f3c66ce36"
      },
      "execution_count": null,
      "outputs": [
        {
          "output_type": "stream",
          "name": "stdout",
          "text": [
            "The area of the triangle is 61.48\n"
          ]
        }
      ]
    },
    {
      "cell_type": "code",
      "source": [
        "a = b = c ='same'\n",
        "print(a)\n",
        "print(b)\n",
        "print(c)"
      ],
      "metadata": {
        "colab": {
          "base_uri": "https://localhost:8080/"
        },
        "id": "VVEuhYoOrPom",
        "outputId": "e8e8024d-462d-4b5a-fabd-5a97454aec96"
      },
      "execution_count": null,
      "outputs": [
        {
          "output_type": "stream",
          "name": "stdout",
          "text": [
            "same\n",
            "same\n",
            "same\n"
          ]
        }
      ]
    },
    {
      "cell_type": "code",
      "source": [
        "x=(1==True)\n",
        "y=(1==False)\n",
        "a=True+4\n",
        "b=False+10\n",
        "print(\"x is\",x)\n",
        "print(\"y is\",y)\n",
        "print(\"a:\",a)\n",
        "print(\"b:\",b)"
      ],
      "metadata": {
        "colab": {
          "base_uri": "https://localhost:8080/"
        },
        "id": "BSiUfMpMrPtq",
        "outputId": "963bd914-d939-4758-afd9-c015b1803707"
      },
      "execution_count": null,
      "outputs": [
        {
          "output_type": "stream",
          "name": "stdout",
          "text": [
            "x is True\n",
            "y is False\n",
            "a: 5\n",
            "b: 10\n"
          ]
        }
      ]
    },
    {
      "cell_type": "code",
      "source": [
        "website=\"kadar.com\"\n",
        "print(website)\n",
        "website=\"kadar/portfolio.github.io\"\n",
        "print(website)"
      ],
      "metadata": {
        "colab": {
          "base_uri": "https://localhost:8080/"
        },
        "id": "qktKpbdxrPy7",
        "outputId": "d3e4896e-0343-4ddd-9dc6-726a8390a07a"
      },
      "execution_count": null,
      "outputs": [
        {
          "output_type": "stream",
          "name": "stdout",
          "text": [
            "kadar.com\n",
            "kadar/portfolio.github.io\n"
          ]
        }
      ]
    },
    {
      "cell_type": "code",
      "source": [
        "def maxOfTwo(x, y):\n",
        "  if x > y:\n",
        "    return x\n",
        "  return y\n",
        "def maxOfThree(x,y,z):\n",
        "  return maxOfTwo(x, maxOfTwo(y,z))\n",
        "print(maxOfThree(3,5,7))"
      ],
      "metadata": {
        "colab": {
          "base_uri": "https://localhost:8080/"
        },
        "id": "sxtiVqOwrP2r",
        "outputId": "8850a935-29ef-44d6-9da4-44158f3d77e6"
      },
      "execution_count": null,
      "outputs": [
        {
          "output_type": "stream",
          "name": "stdout",
          "text": [
            "7\n"
          ]
        }
      ]
    },
    {
      "cell_type": "code",
      "source": [
        "def sum(numbers):\n",
        "  total = 0\n",
        "  for x in numbers:\n",
        "    total += x \n",
        "  return total\n",
        "print(sum((1,2,3,4,5,6)))"
      ],
      "metadata": {
        "colab": {
          "base_uri": "https://localhost:8080/"
        },
        "id": "k177QBLwrP5K",
        "outputId": "18ade369-0cf4-49ae-e916-295c69906330"
      },
      "execution_count": null,
      "outputs": [
        {
          "output_type": "stream",
          "name": "stdout",
          "text": [
            "21\n"
          ]
        }
      ]
    },
    {
      "cell_type": "code",
      "source": [
        "\n",
        "\n",
        "def sum(numbers):\n",
        "  total = 1\n",
        "  for x in numbers:\n",
        "    total *= x \n",
        "  return total\n",
        "print(sum((2,3,4,5,6)))\n",
        "\n"
      ],
      "metadata": {
        "colab": {
          "base_uri": "https://localhost:8080/"
        },
        "id": "6-rWgJoLrP7d",
        "outputId": "889f1df7-ae73-4adc-93a4-bd7c2ceb1571"
      },
      "execution_count": null,
      "outputs": [
        {
          "output_type": "stream",
          "name": "stdout",
          "text": [
            "720\n"
          ]
        }
      ]
    },
    {
      "cell_type": "code",
      "source": [
        "def strRev(str):\n",
        "\n",
        "  revstr=''\n",
        "  index = len(str)\n",
        "  while index > 0:\n",
        "    revstr += str[index - 1]\n",
        "    index = index -1\n",
        "  return revstr\n",
        "print(strRev('kadar'));"
      ],
      "metadata": {
        "colab": {
          "base_uri": "https://localhost:8080/"
        },
        "id": "m0lKh2RErP_e",
        "outputId": "c13f49c6-945e-4508-eb24-2c578570d87f"
      },
      "execution_count": null,
      "outputs": [
        {
          "output_type": "stream",
          "name": "stdout",
          "text": [
            "radak\n"
          ]
        }
      ]
    },
    {
      "cell_type": "code",
      "source": [
        "def factorial(n):\n",
        "    if n == 0:\n",
        "        return 1\n",
        "    else:\n",
        "        return n * factorial(n-1)\n",
        "n=int(input(\"Enter a number to compute the factiorial : \"))\n",
        "print(factorial(n))"
      ],
      "metadata": {
        "colab": {
          "base_uri": "https://localhost:8080/"
        },
        "id": "Np01lbQVrQD-",
        "outputId": "e65821b2-87ac-492f-aeff-25818f95bc8c"
      },
      "execution_count": null,
      "outputs": [
        {
          "output_type": "stream",
          "name": "stdout",
          "text": [
            "Enter a number to compute the factiorial : 20\n",
            "2432902008176640000\n"
          ]
        }
      ]
    },
    {
      "cell_type": "code",
      "source": [
        "def test_range(n):\n",
        "    if n in range(11,20):\n",
        "        print( \" %s is in the range\"%str(n))\n",
        "    else :\n",
        "        print(\"The number is outside the given range.\")\n",
        "test_range(5)"
      ],
      "metadata": {
        "colab": {
          "base_uri": "https://localhost:8080/"
        },
        "id": "C0wcCqm2rQI-",
        "outputId": "c9b29674-847f-45ef-da89-74fa72589647"
      },
      "execution_count": 17,
      "outputs": [
        {
          "output_type": "stream",
          "name": "stdout",
          "text": [
            "The number is outside the given range.\n"
          ]
        }
      ]
    },
    {
      "cell_type": "code",
      "source": [
        "def string_test(s):\n",
        "    d={\"upperCase\":0, \"lowerCase\":0}\n",
        "    for c in s:\n",
        "        if c.isupper():\n",
        "           d[\"upperCase\"]+=1\n",
        "        elif c.islower():\n",
        "           d[\"lowerCase\"]+=1\n",
        "        else:\n",
        "           pass\n",
        "    print (\"Original String : \", s)\n",
        "    print (\"No. of Upper case characters : \", d[\"upperCase\"])\n",
        "    print (\"No. of Lower case Characters : \", d[\"lowerCase\"])\n",
        "\n",
        "string_test('We Are Software Developers')"
      ],
      "metadata": {
        "id": "mIh9Gft2rQMV",
        "colab": {
          "base_uri": "https://localhost:8080/"
        },
        "outputId": "dbe8c16c-9cff-4212-8ff6-29cd57f5bbf6"
      },
      "execution_count": 18,
      "outputs": [
        {
          "output_type": "stream",
          "name": "stdout",
          "text": [
            "Original String :  We Are Software Developers\n",
            "No. of Upper case characters :  4\n",
            "No. of Lower case Characters :  19\n"
          ]
        }
      ]
    },
    {
      "cell_type": "code",
      "source": [
        "def uniqueList(l):\n",
        "  x = []\n",
        "  for a in l:\n",
        "    if a not in x:\n",
        "      x.append(a)\n",
        "  return x\n",
        "\n",
        "print(uniqueList([1,2,3,3,3,3,4,5]))"
      ],
      "metadata": {
        "id": "NM7ZtjimrQP5",
        "colab": {
          "base_uri": "https://localhost:8080/"
        },
        "outputId": "994c2508-b76b-48b2-d4d3-68bcb72bd55f"
      },
      "execution_count": 19,
      "outputs": [
        {
          "output_type": "stream",
          "name": "stdout",
          "text": [
            "[1, 2, 3, 4, 5]\n"
          ]
        }
      ]
    },
    {
      "cell_type": "code",
      "source": [
        "def testPrime(n):\n",
        "    if (n==1):\n",
        "        return False;\n",
        "    elif (n==2):\n",
        "        return True;\n",
        "    else:\n",
        "        for x in range(2,n):\n",
        "            if(n % x==0):\n",
        "                return False;\n",
        "        return True;             \n",
        "print(testPrime(23));"
      ],
      "metadata": {
        "id": "2RwrXPq9rQSw",
        "colab": {
          "base_uri": "https://localhost:8080/"
        },
        "outputId": "e5241003-c996-4da2-e445-81d01af86137"
      },
      "execution_count": 20,
      "outputs": [
        {
          "output_type": "stream",
          "name": "stdout",
          "text": [
            "True\n"
          ]
        }
      ]
    },
    {
      "cell_type": "code",
      "source": [
        "def isEvenNum(l):\n",
        "    enum = []\n",
        "    for n in l:\n",
        "        if n % 2 == 0:\n",
        "            enum.append(n)\n",
        "    return enum\n",
        "print(isEvenNum([1, 2, 3, 4, 5, 6, 7, 8, 9]))"
      ],
      "metadata": {
        "id": "MczhI-yhrQWE",
        "colab": {
          "base_uri": "https://localhost:8080/"
        },
        "outputId": "9f97cdc8-d89b-43ec-8365-21b90dc3902e"
      },
      "execution_count": 21,
      "outputs": [
        {
          "output_type": "stream",
          "name": "stdout",
          "text": [
            "[2, 4, 6, 8]\n"
          ]
        }
      ]
    },
    {
      "cell_type": "code",
      "source": [
        "def perfectNumber(n):\n",
        "    sum = 0\n",
        "    for x in range(1, n):\n",
        "        if n % x == 0:\n",
        "            sum += x\n",
        "    return sum == n\n",
        "print(perfectNumber(6))"
      ],
      "metadata": {
        "id": "Tget-60GrQYp",
        "colab": {
          "base_uri": "https://localhost:8080/"
        },
        "outputId": "bce01ba6-8039-441e-db0d-c766c5d66a6d"
      },
      "execution_count": 22,
      "outputs": [
        {
          "output_type": "stream",
          "name": "stdout",
          "text": [
            "True\n"
          ]
        }
      ]
    },
    {
      "cell_type": "code",
      "source": [
        "def isPalindrome(string):\n",
        "\tleft_pos = 0\n",
        "\tright_pos = len(string) - 1\n",
        "\t\n",
        "\twhile right_pos >= left_pos:\n",
        "\t\tif not string[left_pos] == string[right_pos]:\n",
        "\t\t\treturn False\n",
        "\t\tleft_pos += 1\n",
        "\t\tright_pos -= 1\n",
        "\treturn True\n",
        "print(isPalindrome('aza'))"
      ],
      "metadata": {
        "colab": {
          "base_uri": "https://localhost:8080/"
        },
        "id": "_M6gzXtByXzt",
        "outputId": "a112850e-517b-4403-86f0-538146e43213"
      },
      "execution_count": 23,
      "outputs": [
        {
          "output_type": "stream",
          "name": "stdout",
          "text": [
            "True\n"
          ]
        }
      ]
    },
    {
      "cell_type": "code",
      "source": [
        "def pascalTriangle(n):\n",
        "   trow = [1]\n",
        "   y = [0]\n",
        "   for x in range(max(n,0)):\n",
        "      print(trow)\n",
        "      trow=[l+r for l,r in zip(trow+y, y+trow)]\n",
        "   return n>=1\n",
        "pascalTriangle(6)"
      ],
      "metadata": {
        "colab": {
          "base_uri": "https://localhost:8080/"
        },
        "id": "tJIV3eVRyX9F",
        "outputId": "c1e99bf4-1c69-4199-ee9f-c87d46f4151b"
      },
      "execution_count": 24,
      "outputs": [
        {
          "output_type": "stream",
          "name": "stdout",
          "text": [
            "[1]\n",
            "[1, 1]\n",
            "[1, 2, 1]\n",
            "[1, 3, 3, 1]\n",
            "[1, 4, 6, 4, 1]\n",
            "[1, 5, 10, 10, 5, 1]\n"
          ]
        },
        {
          "output_type": "execute_result",
          "data": {
            "text/plain": [
              "True"
            ]
          },
          "metadata": {},
          "execution_count": 24
        }
      ]
    },
    {
      "cell_type": "code",
      "source": [
        "import string, sys\n",
        "def ispangram(str1, alphabet=string.ascii_lowercase):\n",
        "    alphaset = set(alphabet)\n",
        "    return alphaset <= set(str1.lower())\n",
        " \n",
        "print ( ispangram('The quick brown fox jumps over the lazy dog'));"
      ],
      "metadata": {
        "colab": {
          "base_uri": "https://localhost:8080/"
        },
        "id": "QbUVx8l8yYA9",
        "outputId": "f08e7cc9-ee89-4582-f294-49cbab7a2cc7"
      },
      "execution_count": 25,
      "outputs": [
        {
          "output_type": "stream",
          "name": "stdout",
          "text": [
            "True\n"
          ]
        }
      ]
    },
    {
      "cell_type": "code",
      "source": [
        "items=[n for n in input().split('-')]\n",
        "items.sort()\n",
        "print('-'.join(items))"
      ],
      "metadata": {
        "colab": {
          "base_uri": "https://localhost:8080/"
        },
        "id": "J1sYkh56yYEc",
        "outputId": "9ff8cc14-5c55-4911-d711-bae717d52ec9"
      },
      "execution_count": 26,
      "outputs": [
        {
          "output_type": "stream",
          "name": "stdout",
          "text": [
            "2\n",
            "2\n"
          ]
        }
      ]
    },
    {
      "cell_type": "code",
      "source": [
        "def printValues():\n",
        "\tl = list()\n",
        "\tfor i in range(1,21):\n",
        "\t\tl.append(i**2)\n",
        "\tprint(l)\n",
        "\t\t\n",
        "printValues()"
      ],
      "metadata": {
        "colab": {
          "base_uri": "https://localhost:8080/"
        },
        "id": "TudRTsxmyYHV",
        "outputId": "70035fcd-0084-4929-fbd6-a8d5d99ccb65"
      },
      "execution_count": 27,
      "outputs": [
        {
          "output_type": "stream",
          "name": "stdout",
          "text": [
            "[1, 4, 9, 16, 25, 36, 49, 64, 81, 100, 121, 144, 169, 196, 225, 256, 289, 324, 361, 400]\n"
          ]
        }
      ]
    },
    {
      "cell_type": "code",
      "source": [
        "\n",
        "def make_bold(fn):\n",
        "    def wrapped():\n",
        "        return \"<b>\" + fn() + \"</b>\"\n",
        "    return wrapped\n",
        "\n",
        "def make_italic(fn):\n",
        "    def wrapped():\n",
        "        return \"<i>\" + fn() + \"</i>\"\n",
        "    return wrapped\n",
        "\n",
        "def make_underline(fn):\n",
        "    def wrapped():\n",
        "        return \"<u>\" + fn() + \"</u>\"\n",
        "    return wrapped\n",
        "@make_bold\n",
        "@make_italic\n",
        "@make_underline\n",
        "def hello():\n",
        "    return \"hello world\"\n",
        "print(hello())"
      ],
      "metadata": {
        "colab": {
          "base_uri": "https://localhost:8080/"
        },
        "id": "iq4OAoe2yYKV",
        "outputId": "88063db7-dc6b-417a-edfe-e540765c3f1c"
      },
      "execution_count": 29,
      "outputs": [
        {
          "output_type": "stream",
          "name": "stdout",
          "text": [
            "<b><i><u>hello world</u></i></b>\n"
          ]
        }
      ]
    },
    {
      "cell_type": "code",
      "source": [
        "myCode = 'print(\"hello world\")'\n",
        "code = \"\"\"\n",
        "def mutiply(x,y):\n",
        "    return x*y\n",
        "\n",
        "print('Multiply of 2 and 3 is: ',mutiply(2,3))\n",
        "\"\"\"\n",
        "exec(myCode)\n",
        "exec(code)"
      ],
      "metadata": {
        "colab": {
          "base_uri": "https://localhost:8080/"
        },
        "id": "0cda8wfIyYNF",
        "outputId": "aeceda19-5e6e-4896-b3b8-cbdefc951207"
      },
      "execution_count": 30,
      "outputs": [
        {
          "output_type": "stream",
          "name": "stdout",
          "text": [
            "hello world\n",
            "Multiply of 2 and 3 is:  6\n"
          ]
        }
      ]
    },
    {
      "cell_type": "code",
      "source": [
        "def test(a):\n",
        "        def add(b):\n",
        "                nonlocal a\n",
        "                a += 1\n",
        "                return a+b\n",
        "        return add\n",
        "func= test(4)\n",
        "print(func(4))"
      ],
      "metadata": {
        "colab": {
          "base_uri": "https://localhost:8080/"
        },
        "id": "G6qojZmnyYQE",
        "outputId": "dc3ff95f-32f9-4329-9d93-302609593bc0"
      },
      "execution_count": 31,
      "outputs": [
        {
          "output_type": "stream",
          "name": "stdout",
          "text": [
            "9\n"
          ]
        }
      ]
    },
    {
      "cell_type": "code",
      "source": [
        "def abc():\n",
        "    x = 1\n",
        "    y = 2\n",
        "    str1= \"w3resource\"\n",
        "    print(\"Python Exercises\")\n",
        "\n",
        "print(abc.__code__.co_nlocals)"
      ],
      "metadata": {
        "colab": {
          "base_uri": "https://localhost:8080/"
        },
        "id": "uXgmFQ-JyYV1",
        "outputId": "4205b7c3-3b93-40f3-9035-4feb7d2eaaf2"
      },
      "execution_count": 32,
      "outputs": [
        {
          "output_type": "stream",
          "name": "stdout",
          "text": [
            "3\n"
          ]
        }
      ]
    },
    {
      "cell_type": "code",
      "source": [
        "from time import sleep\n",
        "import math\n",
        "def delay(fn, ms, *args):\n",
        "  sleep(ms / 1000)\n",
        "  return fn(*args)\n",
        "print(\"Square root after specific miliseconds:\") \n",
        "print(delay(lambda x: math.sqrt(x), 100, 16))\n",
        "print(delay(lambda x: math.sqrt(x), 1000, 100))\n",
        "print(delay(lambda x: math.sqrt(x), 2000, 25100))"
      ],
      "metadata": {
        "colab": {
          "base_uri": "https://localhost:8080/"
        },
        "id": "FbL5ZVknzENN",
        "outputId": "dc51bd32-69de-4ef7-d30d-b980bdac7d0a"
      },
      "execution_count": 33,
      "outputs": [
        {
          "output_type": "stream",
          "name": "stdout",
          "text": [
            "Square root after specific miliseconds:\n",
            "4.0\n",
            "10.0\n",
            "158.42979517754858\n"
          ]
        }
      ]
    },
    {
      "cell_type": "code",
      "source": [
        "\n",
        "print(\"Choice 1: Add, 2: Subraction, 3: Division, 4: Multiplication, 5: Quit\")\n",
        "n1 = input(\"Enter the choice of Operation :\")\n",
        "n = int(n1)\n",
        "if (n == 1):\n",
        "  print(\"You have chosen addition Option....\")\n",
        "  a1 = input(\"Enter the value for A :\")\n",
        "  b1 = input(\"Enter the value for B :\")\n",
        "  a = int(a1)\n",
        "  b = int(b1)\n",
        "  c = a + b\n",
        "  print(\"The Result of \",a,\" + \",b,\" is \",c)\n",
        "elif (n == 2):\n",
        "  print(\"You have chosen subraction Option....\")\n",
        "  a1 = input(\"Enter the value for A :\")\n",
        "  b1 = input(\"Enter the value for B :\")\n",
        "  a = int(a1)\n",
        "  b = int(b1)\n",
        "  c = a - b\n",
        "  print(\"The Result of \",a,\" - \",b,\" is \",c)\n",
        "elif (n == 3):\n",
        "  print(\"You have chosen division Option....\")\n",
        "  a1 = input(\"Enter the value for A :\")\n",
        "  b1 = input(\"Enter the value for B :\")\n",
        "  a = int(a1)\n",
        "  b = int(b1)\n",
        "  c = a * b\n",
        "  print(\"The Result of \",a,\" / \",b,\" is \",c)\n",
        "elif (n == 4):\n",
        "  print(\"You have chosen multiplication Option....\")\n",
        "  a1 = input(\"Enter the value for A :\")\n",
        "  b1 = input(\"Enter the value for B :\")\n",
        "  a = int(a1)\n",
        "  b = int(b1)\n",
        "  c = a / b\n",
        "  print(\"The Result of \",a,\" * \",b,\" is \",c)\n",
        "elif (n == 5):\n",
        "  print(\"Exited\")\n",
        "  exit()\n",
        "else:\n",
        "  print(\"You have entered a wrong number\")"
      ],
      "metadata": {
        "colab": {
          "base_uri": "https://localhost:8080/"
        },
        "id": "c4FdSKn7zEQf",
        "outputId": "b9a23b11-84ce-4d62-8255-2832b4a981b4"
      },
      "execution_count": 34,
      "outputs": [
        {
          "output_type": "stream",
          "name": "stdout",
          "text": [
            "Choice 1: Add, 2: Subraction, 3: Division, 4: Multiplication, 5: Quit\n",
            "Enter the choice of Operation :1\n",
            "You have chosen addition Option....\n",
            "Enter the value for A :2\n",
            "Enter the value for B :3\n",
            "The Result of  2  +  3  is  5\n"
          ]
        }
      ]
    },
    {
      "cell_type": "code",
      "source": [
        "#boolean expression\n",
        "a=True\n",
        "b=False\n",
        "print('a= ',a,'b= ',b)\n",
        "a=False;\n",
        "print('a= ',a,'b= ',b)"
      ],
      "metadata": {
        "colab": {
          "base_uri": "https://localhost:8080/"
        },
        "id": "OO4hhso4zETF",
        "outputId": "62e6bc45-2c57-45ba-e41b-b5cd2a5c816c"
      },
      "execution_count": 35,
      "outputs": [
        {
          "output_type": "stream",
          "name": "stdout",
          "text": [
            "a=  True b=  False\n",
            "a=  False b=  False\n"
          ]
        }
      ]
    },
    {
      "cell_type": "code",
      "source": [
        "# Get two integers from the user\n",
        "dividend, divisor = eval(input('Please enter two to divide: '))\n",
        "# If possible, divide them and print the result\n",
        "if divisor != 0:\n",
        "  print(dividend,'/',divisor,' = ', dividend/divisor)\n",
        "else:\n",
        "  print('Divsion by is not allowed.')"
      ],
      "metadata": {
        "colab": {
          "base_uri": "https://localhost:8080/"
        },
        "id": "7JE--uqXzEVs",
        "outputId": "e56cf6e7-fba2-47bd-d956-3c994372e013"
      },
      "execution_count": 38,
      "outputs": [
        {
          "output_type": "stream",
          "name": "stdout",
          "text": [
            "Please enter two to divide: 11,3\n",
            "11 / 3  =  3.6666666666666665\n"
          ]
        }
      ]
    },
    {
      "cell_type": "code",
      "source": [
        "#nested loop\n",
        "print(\"     1  2  3  4  5  6  7  8  9  10\")\n",
        "print(\"    <---------------------------->\")\n",
        "for row in range(1,11):\n",
        "  if row<10:\n",
        "    print(\" \",end=\" \")\n",
        "    for column in range(1,11):\n",
        "      product=row*column;\n",
        "      if product<100:\n",
        "        print(end=\" \")\n",
        "      if product<10:\n",
        "        print(end=\" \")\n",
        "      print(product,end=\" \")\n",
        "    print()"
      ],
      "metadata": {
        "colab": {
          "base_uri": "https://localhost:8080/"
        },
        "id": "B-c9xXpPzEYU",
        "outputId": "b167d019-4d89-4550-ff21-4cbe57d28fe3"
      },
      "execution_count": 39,
      "outputs": [
        {
          "output_type": "stream",
          "name": "stdout",
          "text": [
            "     1  2  3  4  5  6  7  8  9  10\n",
            "    <---------------------------->\n",
            "    1   2   3   4   5   6   7   8   9  10 \n",
            "    2   4   6   8  10  12  14  16  18  20 \n",
            "    3   6   9  12  15  18  21  24  27  30 \n",
            "    4   8  12  16  20  24  28  32  36  40 \n",
            "    5  10  15  20  25  30  35  40  45  50 \n",
            "    6  12  18  24  30  36  42  48  54  60 \n",
            "    7  14  21  28  35  42  49  56  63  70 \n",
            "    8  16  24  32  40  48  56  64  72  80 \n",
            "    9  18  27  36  45  54  63  72  81  90 \n"
          ]
        }
      ]
    },
    {
      "cell_type": "code",
      "source": [
        "#while \n",
        "entry=0\n",
        "sum=0\n",
        "print(\"Enter numbers to sum, negative number ends list: \")\n",
        "while entry >=0:\n",
        "  entry =eval(input())\n",
        "  if entry >=0:\n",
        "    sum+=entry\n",
        "print(\"sum=\",sum)"
      ],
      "metadata": {
        "colab": {
          "base_uri": "https://localhost:8080/"
        },
        "id": "uvhL7xVAzEa1",
        "outputId": "bdcc549f-8014-44f9-fb03-99c03f96b65f"
      },
      "execution_count": 46,
      "outputs": [
        {
          "output_type": "stream",
          "name": "stdout",
          "text": [
            "Enter numbers to sum, negative number ends list: \n",
            "9\n",
            "8\n",
            "-6\n",
            "sum= 17\n"
          ]
        }
      ]
    },
    {
      "cell_type": "code",
      "source": [
        ""
      ],
      "metadata": {
        "id": "M4kxJGbPzEdk"
      },
      "execution_count": null,
      "outputs": []
    },
    {
      "cell_type": "code",
      "source": [
        ""
      ],
      "metadata": {
        "id": "dyH1MEObzEgW"
      },
      "execution_count": null,
      "outputs": []
    },
    {
      "cell_type": "code",
      "source": [
        ""
      ],
      "metadata": {
        "id": "UPJ2QKoBzEjU"
      },
      "execution_count": null,
      "outputs": []
    },
    {
      "cell_type": "code",
      "source": [
        ""
      ],
      "metadata": {
        "id": "R7esUoOrzEmn"
      },
      "execution_count": null,
      "outputs": []
    },
    {
      "cell_type": "code",
      "source": [
        ""
      ],
      "metadata": {
        "id": "OOtHEAb7zEpe"
      },
      "execution_count": null,
      "outputs": []
    },
    {
      "cell_type": "code",
      "source": [
        ""
      ],
      "metadata": {
        "id": "kfm9uRFYzEsM"
      },
      "execution_count": null,
      "outputs": []
    },
    {
      "cell_type": "code",
      "source": [
        ""
      ],
      "metadata": {
        "id": "5nTKXSWEzEvN"
      },
      "execution_count": null,
      "outputs": []
    },
    {
      "cell_type": "code",
      "source": [
        ""
      ],
      "metadata": {
        "id": "kJRsrWhHzEyE"
      },
      "execution_count": null,
      "outputs": []
    },
    {
      "cell_type": "code",
      "source": [
        ""
      ],
      "metadata": {
        "id": "FAKKqYzGzE00"
      },
      "execution_count": null,
      "outputs": []
    }
  ]
}